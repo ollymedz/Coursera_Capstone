{
 "cells": [
  {
   "cell_type": "markdown",
   "id": "fe9dd83a",
   "metadata": {},
   "source": [
    "# Coursera Capstone Project - Oliver Medzinskii"
   ]
  },
  {
   "cell_type": "markdown",
   "id": "6a2101f3",
   "metadata": {},
   "source": [
    "### Introduction\n",
    "\n",
    "This notebook will be used for my Applied Data Science Proejct\n"
   ]
  },
  {
   "cell_type": "markdown",
   "id": "9daf5378",
   "metadata": {},
   "source": [
    "### Import Dependencies "
   ]
  },
  {
   "cell_type": "code",
   "execution_count": 2,
   "id": "a08044a1",
   "metadata": {},
   "outputs": [
    {
     "name": "stdout",
     "output_type": "stream",
     "text": [
      "imported dependiencies\n"
     ]
    }
   ],
   "source": [
    "import pandas as pd\n",
    "import numpy as np\n",
    "\n",
    "print(\"imported dependiencies\")"
   ]
  },
  {
   "cell_type": "code",
   "execution_count": 3,
   "id": "a7c7a6de",
   "metadata": {},
   "outputs": [
    {
     "name": "stdout",
     "output_type": "stream",
     "text": [
      "Hello Capstone Project Course!\n"
     ]
    }
   ],
   "source": [
    "print(\"Hello Capstone Project Course!\")"
   ]
  },
  {
   "cell_type": "code",
   "execution_count": null,
   "id": "bcf51ce2",
   "metadata": {},
   "outputs": [],
   "source": []
  }
 ],
 "metadata": {
  "kernelspec": {
   "display_name": "Python 3",
   "language": "python",
   "name": "python3"
  },
  "language_info": {
   "codemirror_mode": {
    "name": "ipython",
    "version": 3
   },
   "file_extension": ".py",
   "mimetype": "text/x-python",
   "name": "python",
   "nbconvert_exporter": "python",
   "pygments_lexer": "ipython3",
   "version": "3.9.2"
  }
 },
 "nbformat": 4,
 "nbformat_minor": 5
}
