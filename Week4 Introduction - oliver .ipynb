{
 "cells": [
  {
   "cell_type": "markdown",
   "id": "a04b90ee",
   "metadata": {},
   "source": [
    "## Introduction\n",
    "\n",
    "New York is known for its diversity and being the financial capital of USA. Providing lot of business oppourtunities, espeically for people wanting to start a new business. Dominating the market with numerous competitors, it is a global hub of business and commerce. The city is a major center for banking and finance, retailing, world trade, transportation, tourism, real estate, new media, traditional media, advertising, legal services, accountancy, insurance, theater, fashion, and the arts in the United States. This also means that the market is highly competitive. As it is highly developed city so cost of doing business is also one of the highest. Thus, any new business venture or expansion needs to be analysed carefully. By analying the market, we can reduce the risk of investment and increase the potential ROI to enure that if somone wants to start a bussiness they can be more confident in thier desicion.\n",
    "\n",
    "## Business problem\n",
    "\n",
    "Myself I love food and having visited New York before, I know that the cultural diveristy in resturants is massive. My favourite being the sushi resturants.\n",
    "\n",
    "Sushi restaurants have increased in popularity over the years and this has increased the number of resturants opening and providing sushi. As a result starting a sushi restaurant can be a great business opportunity, but you need to find a niche to compete with the others out there.\n",
    "\n",
    "## Find a suitable location.\n",
    "\n",
    "There are differnt ways to attract more customers, such as providing better quiltiy fish directly imported from Japan, or you might change the aethetic of your resturant to make it more fancy - hence attracting a audience that would pay more. But ultimatly the location will play a big role.\n",
    "\n",
    "## Target Audience:\n",
    "\n",
    "My Client wants to open his business in the Manhattan area, so I only focus on that borough during my analysis. The objective is to locate and recommend to the management which neighborhood of Newyork city will be best choice to start a restaurant. The Management also expects to understand the rationale of the recommendations made.\n",
    "\n",
    "This would interest anyone who wants to start a new restaurant in Newyork city."
   ]
  }
 ],
 "metadata": {
  "kernelspec": {
   "display_name": "Python 3",
   "language": "python",
   "name": "python3"
  },
  "language_info": {
   "codemirror_mode": {
    "name": "ipython",
    "version": 3
   },
   "file_extension": ".py",
   "mimetype": "text/x-python",
   "name": "python",
   "nbconvert_exporter": "python",
   "pygments_lexer": "ipython3",
   "version": "3.9.2"
  }
 },
 "nbformat": 4,
 "nbformat_minor": 5
}
